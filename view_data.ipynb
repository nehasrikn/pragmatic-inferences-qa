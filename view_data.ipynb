{
 "cells": [
  {
   "cell_type": "code",
   "execution_count": 1,
   "id": "95564d34-de67-493d-9448-c2545d039472",
   "metadata": {
    "execution": {
     "iopub.execute_input": "2024-10-08T18:28:34.725831Z",
     "iopub.status.busy": "2024-10-08T18:28:34.725545Z",
     "iopub.status.idle": "2024-10-08T18:28:35.846639Z",
     "shell.execute_reply": "2024-10-08T18:28:35.845636Z",
     "shell.execute_reply.started": "2024-10-08T18:28:34.725776Z"
    }
   },
   "outputs": [],
   "source": [
    "import os\n",
    "import sys\n",
    "import numpy as np\n",
    "import pandas as pd \n",
    "\n",
    "module_path = os.path.abspath(os.path.join('.'))\n",
    "if module_path not in sys.path:\n",
    "    sys.path.append(module_path)\n",
    "\n",
    "from utils import PROJECT_ROOT_DIR\n",
    "%load_ext autoreload\n",
    "%autoreload 2"
   ]
  },
  {
   "cell_type": "code",
   "execution_count": 2,
   "id": "c22eff9d-ee34-4a4f-a54c-aad4d5327fb8",
   "metadata": {
    "execution": {
     "iopub.execute_input": "2024-10-08T18:28:35.849136Z",
     "iopub.status.busy": "2024-10-08T18:28:35.848662Z",
     "iopub.status.idle": "2024-10-08T18:28:36.605255Z",
     "shell.execute_reply": "2024-10-08T18:28:36.604182Z",
     "shell.execute_reply.started": "2024-10-08T18:28:35.849104Z"
    }
   },
   "outputs": [
    {
     "name": "stdout",
     "output_type": "stream",
     "text": [
      "Loading batch 1 of rosie\n",
      "Loading batch 2 of rosie\n",
      "Loading batch 3 of rosie\n",
      "Loading batch 4 of rosie\n",
      "Loading batch 1 of reddit\n",
      "Loading batch 2 of reddit\n",
      "Loading batch 3 of reddit\n",
      "Loading batch 4 of reddit\n",
      "Loading batch 1 of nq\n",
      "Loading batch 2 of nq\n",
      "500 questions in the dataset\n"
     ]
    }
   ],
   "source": [
    "from question import maternal_health_dataset, annotation_sample_questions\n",
    "print(f'{len(maternal_health_dataset.questions)} questions in the dataset')"
   ]
  },
  {
   "cell_type": "code",
   "execution_count": 3,
   "id": "8fc44ff0-5185-4427-8edf-e12360b05ad3",
   "metadata": {
    "execution": {
     "iopub.execute_input": "2024-10-08T18:28:36.606844Z",
     "iopub.status.busy": "2024-10-08T18:28:36.606578Z",
     "iopub.status.idle": "2024-10-08T18:28:36.624645Z",
     "shell.execute_reply": "2024-10-08T18:28:36.623703Z",
     "shell.execute_reply.started": "2024-10-08T18:28:36.606819Z"
    }
   },
   "outputs": [
    {
     "name": "stdout",
     "output_type": "stream",
     "text": [
      "\u001b[32m[rosie.1.0] Is breast pain normal when breastfeeding?\u001b[0m\n",
      "\u001b[35m   There are sensations that can be expected while breastfeeding. (True)\u001b[0m\n",
      "\u001b[35m   There are common causes of pain or discomfort while breastfeeding. (True)\u001b[0m\n",
      "\u001b[35m   There may be a need to seek medical attention for breast pain while breastfeeding. (True)\u001b[0m\n",
      "\u001b[35m   Pain may occur with breastfeeding. (False)\u001b[0m\n",
      "\u001b[35m   Some amount of pain may be normal. (False)\u001b[0m\n",
      "\u001b[35m   Pain while breastfeeding may indicate something is wrong. (True)\u001b[0m\n",
      "\u001b[32m[rosie.1.1] What do I need to prepare for baby?\u001b[0m\n",
      "\u001b[35m   There are certain items that are necessary for infants. (True)\u001b[0m\n",
      "\u001b[35m   There are certain items that are considered \"nice to have\" for infants. (True)\u001b[0m\n",
      "\u001b[35m   There is a specific sleep environment that is safe for babies. (True)\u001b[0m\n",
      "\u001b[35m   A car seat is necessary for a baby. (True)\u001b[0m\n",
      "\u001b[35m   There is a question of whether a baby should have their own bedroom. (False)\u001b[0m\n",
      "\u001b[35m   There is a specific number of diapers that a baby will need per day. (Unsure)\u001b[0m\n",
      "\u001b[35m   There is a specific amount of formula that a baby will need per day. (Unsure)\u001b[0m\n",
      "\u001b[32m[rosie.1.2] How does aspirin reduce preeclampsia risk?\u001b[0m\n",
      "\u001b[35m   Aspirin has the potential to reduce the risk of preeclampsia. (True)\u001b[0m\n",
      "\u001b[35m   Preeclampsia is a condition that exists. (True)\u001b[0m\n",
      "\u001b[35m   There are risk factors associated with preeclampsia. (True)\u001b[0m\n",
      "\u001b[35m   There is a recommendation to take aspirin to prevent preeclampsia. (True)\u001b[0m\n",
      "\u001b[35m   There is a concern about the safety of taking aspirin during pregnancy. (True)\u001b[0m\n",
      "\u001b[32m[rosie.1.3] How often should I shower my baby?\u001b[0m\n",
      "\u001b[35m   There is a safe way to bathe a baby. (True)\u001b[0m\n",
      "\u001b[35m   There is a specific location where a baby should be washed. (True)\u001b[0m\n",
      "\u001b[35m   There may be certain products that should be used or avoided when bathing a baby. (True)\u001b[0m\n",
      "\u001b[35m   Babies may need to be bathed more or less frequently than adults. (True)\u001b[0m\n",
      "\u001b[32m[rosie.1.4] Is almond milk better than cows milk?\u001b[0m\n",
      "\u001b[35m   There are different types of milk that are appropriate for different age groups. (True)\u001b[0m\n",
      "\u001b[35m   There may be nutritional benefits to both cow's milk and almond milk. (Unsure)\u001b[0m\n",
      "\u001b[35m   There is a recommended amount of milk that should be consumed. (True)\u001b[0m\n",
      "\u001b[35m   There are alternative milk options for those who cannot consume cow's milk. (True)\u001b[0m\n",
      "\u001b[35m   Some milks may be better than others. (True)\u001b[0m\n",
      "\u001b[35m   Consumer milk is considered good or recommended. (True)\u001b[0m\n",
      "\u001b[35m   Cow's milk may not be good for everyone. (True)\u001b[0m\n"
     ]
    }
   ],
   "source": [
    "for q in maternal_health_dataset.questions[:5]:\n",
    "    q.display()"
   ]
  },
  {
   "cell_type": "code",
   "execution_count": 4,
   "id": "c61d7d05-e486-4acf-b729-edfd57083668",
   "metadata": {
    "execution": {
     "iopub.execute_input": "2024-10-08T18:28:36.626399Z",
     "iopub.status.busy": "2024-10-08T18:28:36.626122Z",
     "iopub.status.idle": "2024-10-08T18:28:36.650124Z",
     "shell.execute_reply": "2024-10-08T18:28:36.649175Z",
     "shell.execute_reply.started": "2024-10-08T18:28:36.626375Z"
    }
   },
   "outputs": [
    {
     "name": "stdout",
     "output_type": "stream",
     "text": [
      "====== reddit ======\n",
      "200 questions\n",
      "1114 assumptions\n",
      "{'Unsure': 16.1, 'True': 70.1, 'False': 13.8}\n",
      "\n",
      "====== nq ======\n",
      "100 questions\n",
      "452 assumptions\n",
      "{'True': 79.9, 'Unsure': 13.7, 'False': 6.4}\n",
      "\n",
      "====== rosie ======\n",
      "200 questions\n",
      "1161 assumptions\n",
      "{'True': 77.5, 'False': 10.5, 'Unsure': 12.0}\n",
      "\n"
     ]
    }
   ],
   "source": [
    "from collections import Counter\n",
    "import numpy as np\n",
    "\n",
    "for source in ['reddit', 'nq', 'rosie']:\n",
    "    source_questions = maternal_health_dataset.get_questions_from_dataset(source)\n",
    "    print(f'====== {source} ======')\n",
    "    print(f'{len(source_questions.questions)} questions')\n",
    "\n",
    "    source_assumptions = [a for q in source_questions.questions for a in q.human_assumptions]\n",
    "    print(f'{len(source_assumptions)} assumptions')\n",
    "    print({veracity: np.round(num/len(source_assumptions)*100, 1) for veracity, num in Counter([a.veracity for a in source_assumptions]).items()})\n",
    "    print()"
   ]
  }
 ],
 "metadata": {
  "kernelspec": {
   "display_name": "para-nlu",
   "language": "python",
   "name": "para-nlu"
  },
  "language_info": {
   "codemirror_mode": {
    "name": "ipython",
    "version": 3
   },
   "file_extension": ".py",
   "mimetype": "text/x-python",
   "name": "python",
   "nbconvert_exporter": "python",
   "pygments_lexer": "ipython3",
   "version": "3.8.13"
  }
 },
 "nbformat": 4,
 "nbformat_minor": 5
}
